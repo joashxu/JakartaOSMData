{
 "cells": [
  {
   "cell_type": "markdown",
   "metadata": {},
   "source": [
    "# Wrangling OpenStreetMap Data\n",
    "\n",
    "### Map area: Jakarta, Indonesia\n",
    "\n",
    "** Data source: https://s3.amazonaws.com/metro-extracts.mapzen.com/jakarta_indonesia.osm.bz2**"
   ]
  },
  {
   "cell_type": "markdown",
   "metadata": {},
   "source": [
    "---"
   ]
  },
  {
   "cell_type": "markdown",
   "metadata": {},
   "source": [
    "## Overview\n",
    "\n",
    "After downloading the map data of Jakarta, I do some initial checking on the document manually.\n",
    "I then run some code to get the feel of the data."
   ]
  },
  {
   "cell_type": "code",
   "execution_count": 1,
   "metadata": {
    "collapsed": true
   },
   "outputs": [],
   "source": [
    "from osm_datadescriptor import OSMDataDescriptor \n",
    "\n",
    "osm_data = OSMDataDescriptor('jakarta_indonesia.osm')"
   ]
  },
  {
   "cell_type": "code",
   "execution_count": 2,
   "metadata": {
    "collapsed": false
   },
   "outputs": [
    {
     "data": {
      "text/plain": [
       "{'bounds': 1,\n",
       " 'member': 2083,\n",
       " 'nd': 2522657,\n",
       " 'node': 1994318,\n",
       " 'osm': 1,\n",
       " 'relation': 420,\n",
       " 'tag': 700156,\n",
       " 'way': 364030}"
      ]
     },
     "execution_count": 2,
     "metadata": {},
     "output_type": "execute_result"
    }
   ],
   "source": [
    "# Basic element check\n",
    "osm_data.count_element()"
   ]
  },
  {
   "cell_type": "markdown",
   "metadata": {},
   "source": [
    "OSM allows a very flexible tagging system, which gives user freedom but causing problem with consistency.\n",
    "I count the number of for all tag in the document."
   ]
  },
  {
   "cell_type": "code",
   "execution_count": 3,
   "metadata": {
    "collapsed": false
   },
   "outputs": [],
   "source": [
    "# Check the tag key and element\n",
    "tag_keys = osm_data.get_tag_keys()"
   ]
  },
  {
   "cell_type": "markdown",
   "metadata": {},
   "source": [
    "Below I list the top 20 tag keys. As the whole list will be too exhaustive to read."
   ]
  },
  {
   "cell_type": "code",
   "execution_count": 4,
   "metadata": {
    "collapsed": false
   },
   "outputs": [
    {
     "data": {
      "text/plain": [
       "[('building', 557134),\n",
       " ('highway', 124402),\n",
       " ('created_by', 84423),\n",
       " ('name', 79005),\n",
       " ('source', 29848),\n",
       " ('building:levels', 25345),\n",
       " ('building:roof', 25059),\n",
       " ('building:walls', 25051),\n",
       " ('amenity', 24781),\n",
       " ('building:structure', 24658),\n",
       " ('flood_prone', 21051),\n",
       " ('natural', 19025),\n",
       " ('admin_level', 17723),\n",
       " ('boundary', 15606),\n",
       " ('building:use', 15113),\n",
       " ('oneway', 12414),\n",
       " ('landuse', 12296),\n",
       " ('addr:full', 10038),\n",
       " ('kab_name', 10015),\n",
       " ('kec_name', 10004)]"
      ]
     },
     "execution_count": 4,
     "metadata": {},
     "output_type": "execute_result"
    }
   ],
   "source": [
    "sorted(tag_keys, key=lambda x: x[1], reverse=True)[:20]"
   ]
  },
  {
   "cell_type": "markdown",
   "metadata": {},
   "source": [
    "Looking through the data I see several things.\n",
    "\n",
    "There are only a handful usage of postal code total of 900. This is not suprising, since in Indonesia we don't use this postal code that much. \n",
    "\n",
    "The other things is the use of phone. This is a bit suprising for me, there are only a handful entry for this (total of 212.\n",
    " \n",
    "And then tag with different case of slightly different spelling presents. "
   ]
  },
  {
   "cell_type": "code",
   "execution_count": 5,
   "metadata": {
    "collapsed": false
   },
   "outputs": [
    {
     "data": {
      "text/plain": [
       "[('NAMA', 2), ('Nama', 92), ('Name', 2), ('nama', 28), ('name', 79005)]"
      ]
     },
     "execution_count": 5,
     "metadata": {},
     "output_type": "execute_result"
    }
   ],
   "source": [
    "import re\n",
    "\n",
    "# Name vs Nama\n",
    "[item for item in tag_keys if re.match('(name|nama)$', item[0], re.I)]"
   ]
  },
  {
   "cell_type": "code",
   "execution_count": 6,
   "metadata": {
    "collapsed": false
   },
   "outputs": [
    {
     "data": {
      "text/plain": [
       "[('Propinsi', 2), ('Province', 2)]"
      ]
     },
     "execution_count": 6,
     "metadata": {},
     "output_type": "execute_result"
    }
   ],
   "source": [
    "# Province vs propinsi\n",
    "[item for item in tag_keys if re.match('(province|propinsi)$', item[0], re.I)]"
   ]
  },
  {
   "cell_type": "code",
   "execution_count": 7,
   "metadata": {
    "collapsed": false
   },
   "outputs": [
    {
     "data": {
      "text/plain": [
       "[('addr:full', 10038),\n",
       " ('addr:housenumber', 1475),\n",
       " ('addr:street', 1441),\n",
       " ('addr:city', 1057),\n",
       " ('addr:postcode', 858),\n",
       " ('addr:housename', 492),\n",
       " ('addr:country', 52),\n",
       " ('addr:province', 30),\n",
       " ('addr:district', 26),\n",
       " ('addr:suburb', 22),\n",
       " ('addr:subdistrict', 20),\n",
       " ('addr:interpolation', 16),\n",
       " ('addr:floor', 4),\n",
       " ('addr:state', 4),\n",
       " ('ALAMAT', 2),\n",
       " ('addr:county', 2),\n",
       " ('addr:housenumber_1', 2),\n",
       " ('addr:place', 2),\n",
       " ('alamat', 2)]"
      ]
     },
     "execution_count": 7,
     "metadata": {},
     "output_type": "execute_result"
    }
   ],
   "source": [
    "# Alamat vs address\n",
    "sorted([item for item in tag_keys if re.match('(addr|alamat)', item[0], re.I)], key=lambda x: x[1], reverse=True)"
   ]
  },
  {
   "cell_type": "markdown",
   "metadata": {},
   "source": [
    "We see for address there are three related tags: 'ALAMAT, 'addr:street', 'addr:full'.\n",
    "Both 'addr:street' and 'addr:full' is valid tag, so we can not merge them.\n",
    "[OSM wiki](http://wiki.openstreetmap.org/wiki/Key:addr>) imply that the using 'addr:street' and other supporting field is better then using 'addr:full' but our data shows that we have more 'addr:full' then 'addr:street' (10038 vs 1441).\n",
    "\n",
    "Indonesia has a bit complex administrative subdivision. It is divided as follow:\n",
    "\n",
    "* Province\n",
    "* Regency (Kabupaten) or City (Kota)\n",
    "* District (Kecamatan)\n",
    "* Village\n",
    "\n",
    "For Jakarta (a province), it is divided into 4 cities: Jakarta Selatan, Jakarta Utara, Jakarta Barat and Jakarta Timur.\n",
    "\n",
    "And then there are non-administrative division like RT and RW. While RT and RW is considered a non-administrative subdivision, it is widely use (The ID card has and requires this information). And from data point of view it is actually interesting to know. A RT have a maximum 30 household.\n",
    "\n",
    "The division here does not quite match the OSM address tag found here. Which allows for multiple interpretation. And given the complexity of division, not many people can fill this information easily.\n",
    "\n",
    "I believe this is what lead user to just simply put the whole address in 'addr:full', as this is much simpler. But as OSM warns, putting everything in 'addr:full' makes it harder to parse by software.\n",
    "\n",
    "There are some effort by the community to try to add the division into the data, but the result is not all that good. For instance for Regency we have 'KAB_NAME', 'kab_name', 'Kabupaten', 'kab.', etc. And some way node uses 'admin_level' tag and then put 'kabupaten' in the value.\n",
    "\n",
    "Okay let's import the data to MongoDB."
   ]
  },
  {
   "cell_type": "code",
   "execution_count": 8,
   "metadata": {
    "collapsed": false
   },
   "outputs": [],
   "source": [
    "from osm_dataimporter import OSMDataImporter\n",
    "\n",
    "importer = OSMDataImporter(db_name='osm_data_import', db_collection_name='jakarta')\n",
    "importer.import_data('jakarta_indonesia.osm')"
   ]
  },
  {
   "cell_type": "markdown",
   "metadata": {},
   "source": [
    "---"
   ]
  },
  {
   "cell_type": "markdown",
   "metadata": {},
   "source": [
    "## Problems encountered in Map"
   ]
  },
  {
   "cell_type": "markdown",
   "metadata": {},
   "source": [
    "### Address prefixes problem\n",
    "\n",
    "The problems with the address prefixes:\n",
    "\n",
    "* Abbreviated street names (Jl. Masjid Almunawarah, Jln Perintis, etc)\n",
    "* Abbreviated alley names (Gg. Kembang)\n",
    "\n",
    "For the street name there are several variation, that is: 'jl.', 'jln.', 'jl', jln'.\n",
    "And then some use all upper case, some all lower case and some are mixed."
   ]
  },
  {
   "cell_type": "code",
   "execution_count": 9,
   "metadata": {
    "collapsed": false
   },
   "outputs": [],
   "source": [
    "# Clean up street name\n",
    "importer.cleanup_address_street()\n",
    "# Clean up street alley\n",
    "importer.cleanup_address_alley()"
   ]
  },
  {
   "cell_type": "markdown",
   "metadata": {},
   "source": [
    "### Address spelling problem\n",
    "\n",
    "Several street names is actually the same, but spell out differently.\n",
    "Wikipedia has the name of most of important street in Jakarta. So I will use that as a reference."
   ]
  },
  {
   "cell_type": "code",
   "execution_count": 10,
   "metadata": {
    "collapsed": true
   },
   "outputs": [],
   "source": [
    "import json\n",
    "import itertools\n",
    "\n",
    "# Load wikipedia street name data\n",
    "street_names_file = open('street_name.json')\n",
    "street_names = json.load(street_names_file)\n",
    "\n",
    "# Get the street names\n",
    "flatten_street_names = list(itertools.chain(*street_names.values()))"
   ]
  },
  {
   "cell_type": "code",
   "execution_count": 11,
   "metadata": {
    "collapsed": true
   },
   "outputs": [],
   "source": [
    "from pymongo import MongoClient\n",
    "\n",
    "client = MongoClient()\n",
    "db = client['osm_data_import']"
   ]
  },
  {
   "cell_type": "markdown",
   "metadata": {},
   "source": [
    "To check the similarity between the reference address name with the one we have in our MongoDB, I utilize Python built-in [difflib](https://docs.python.org/2/library/difflib.html) library. SequenceMatcher class can compare and give out ratio of similarity. We are intrested at strings that generate ratio above 0.65 and less then 1. We also ignore the prefix and the suffix like 'raya' which is common suffix for street names in Indonesia."
   ]
  },
  {
   "cell_type": "code",
   "execution_count": 12,
   "metadata": {
    "collapsed": false
   },
   "outputs": [
    {
     "name": "stdout",
     "output_type": "stream",
     "text": [
      "Total similiar item found:  140\n"
     ]
    },
    {
     "data": {
      "text/plain": [
       "[(u'Jalan Jenderal Ahmad Yani',\n",
       "  u'Jalan Jendral Ahmad Yani',\n",
       "  0.972972972972973),\n",
       " (u'Jalan Jenderal Sudirman', u'Jalan Jendral Sudirman', 0.9696969696969697),\n",
       " (u'Jalan HR Rasuna Said', u'Jalan HR. Rasuna Said', 0.9655172413793104),\n",
       " (u'Jalan TB Simatupang', u'TB. Simatupang', 0.9629629629629629),\n",
       " (u'Jalan TB Simatupang', u'TB. Simatupang', 0.9629629629629629),\n",
       " (u'Jalan TB Simatupang', u'TB. Simatupang', 0.9629629629629629),\n",
       " (u'Jalan Mampang Prapatan', u'Mampang Prapatan 4', 0.9411764705882353),\n",
       " (u'Jalan Patimura', u'Pattimura', 0.9411764705882353),\n",
       " (u'Jalan HR Rasuna Said', u'Jalan H.R. Rasuna Said', 0.9333333333333333),\n",
       " (u'Jalan Gunung Sahari', u'Gunung Sahari 4', 0.9285714285714286),\n",
       " (u'Jalan Kapten Tendean', u'Kapten P. Tendean', 0.9032258064516129),\n",
       " (u'Jalan HR Rasuna Said', u'Jalan H.R.Rasuna Said', 0.896551724137931),\n",
       " (u'Jalan Jenderal Gatot Subroto',\n",
       "  u'Jalan Jend. Gatot Subroto',\n",
       "  0.8780487804878049),\n",
       " (u'Jalan Veteran', u'Veteran 3', 0.875),\n",
       " (u'Jalan MH Thamrin', u'Jalan M. H. Thamrin', 0.8695652173913043)]"
      ]
     },
     "execution_count": 12,
     "metadata": {},
     "output_type": "execute_result"
    }
   ],
   "source": [
    "from difflib import SequenceMatcher\n",
    "\n",
    "# Audit street names\n",
    "closely_matched_names = set()\n",
    "for item in db.jakarta.find({'type':'way', 'address.street':{'$exists': True}}):\n",
    "    for street_name in flatten_street_names:\n",
    "        # We ignore the street prefix as this will effect the matching ratio.\n",
    "        shorten_street_name = street_name[6:].lower()\n",
    "        if shorten_street_name.endswith('raya'):\n",
    "            shorten_street_name = shorten_street_name[:shorten_street_name.index('raya')].strip()\n",
    "        item_name = item['address']['street'].lower()\n",
    "        if item_name.startswith('jalan'):\n",
    "            item_name = item_name[6:]\n",
    "        if item_name.endswith('raya'):\n",
    "            item_name = item_name[:item_name.index('raya')].strip()\n",
    "            \n",
    "        s = SequenceMatcher(lambda x: x == \" \", item_name, shorten_street_name)\n",
    "        if 0.65 <= s.ratio() < 1.0:\n",
    "            closely_matched_names.add((street_name, item['address']['street'], s.ratio(), item['_id']))\n",
    "\n",
    "closely_matched = sorted(list(closely_matched_names), key=lambda x: x[2], reverse=True)\n",
    "print \"Total similiar item found: \", len(closely_matched)\n",
    "\n",
    "# Display top 15 with score\n",
    "[(reference, found, score) for reference, found, score, obj_id in closely_matched[:15]]"
   ]
  },
  {
   "cell_type": "markdown",
   "metadata": {},
   "source": [
    "We still need to manually check and replace the street name, but it is a much simpler task.\n",
    "After manually looking at the result, I found several item that can actually be updated in the database."
   ]
  },
  {
   "cell_type": "code",
   "execution_count": 13,
   "metadata": {
    "collapsed": false
   },
   "outputs": [
    {
     "name": "stdout",
     "output_type": "stream",
     "text": [
      "Updated for Jalan Jendral Ahmad Yani : 1\n",
      "Updated for Jalan Jendral Sudirman : 1\n",
      "Updated for Jalan HR. Rasuna Said : 1\n",
      "Updated for TB. Simatupang : 3\n",
      "Updated for Pattimura : 1\n",
      "Updated for Jalan H.R. Rasuna Said : 1\n",
      "Updated for Kapten P. Tendean : 1\n",
      "Updated for Jalan H.R.Rasuna Said : 1\n",
      "Updated for Jalan Jend. Gatot Subroto : 1\n",
      "Updated for Jalan M. H. Thamrin : 1\n",
      "Updated for KH Abdul Syafi'ie : 4\n",
      "Updated for Jalan Jend. Sudirman : 2\n",
      "Updated for Jalan Raya Pasar Minggu : 1\n",
      "Updated for KH Wahid Hasyim : 10\n",
      "Updated for Kapten Pierre Tendean : 4\n",
      "Updated for Letjen S Parman : 3\n",
      "Updated for K.H. Mas Mansyur : 1\n",
      "Updated for Jalan Letjen M. T. Haryono : 4\n",
      "Updated for Jalan Ahmad Yani : 3\n",
      "Updated for Jalan Yos Sudarso : 1\n",
      "Updated for Jalan Ir. H. Juanda : 6\n",
      "Updated for Letjend. Siswondo Parman : 1\n",
      "Updated for Gatot Soebroto : 1\n"
     ]
    }
   ],
   "source": [
    "from bson.objectid import ObjectId\n",
    "\n",
    "# Clean up similiar street names\n",
    "similiar_names = [\n",
    "  (u'Jalan Jenderal Ahmad Yani', u'Jalan Jendral Ahmad Yani'),\n",
    "  (u'Jalan Jenderal Sudirman', u'Jalan Jendral Sudirman'),\n",
    "  (u'Jalan HR Rasuna Said', u'Jalan HR. Rasuna Said'),\n",
    "  (u'Jalan TB Simatupang', u'TB. Simatupang'),\n",
    "  (u'Jalan Patimura', u'Pattimura'),\n",
    "  (u'Jalan HR Rasuna Said', u'Jalan H.R. Rasuna Said'),\n",
    "  (u'Jalan Kapten Tendean', u'Kapten P. Tendean'),\n",
    "  (u'Jalan HR Rasuna Said', u'Jalan H.R.Rasuna Said'),\n",
    "  (u'Jalan Jenderal Gatot Subroto', u'Jalan Jend. Gatot Subroto'),\n",
    "  (u'Jalan MH Thamrin', u'Jalan M. H. Thamrin'),\n",
    "  (u'Jalan Abdul Syafiie', u\"KH Abdul Syafi'ie\"),\n",
    "  (u'Jalan Jenderal Sudirman', u'Jalan Jend. Sudirman'),\n",
    "  (u'Jalan Pasar Minggu', u'Jalan Raya Pasar Minggu'),\n",
    "  (u'Jalan Kyai Haji Wahid Hasyim', u'KH Wahid Hasyim'),\n",
    "  (u'Jalan Kapten Tendean', u'Kapten Pierre Tendean'),\n",
    "  (u'Jalan Letnan Jenderal S Parman', u'Letjen S Parman'),\n",
    "  (u'Jalan Kyai Haji Mas Mansyur', u'K.H. Mas Mansyur'),\n",
    "  (u'Jalan Letnan Jenderal MT Haryono', u'Jalan Letjen M. T. Haryono'),\n",
    "  (u'Jalan Jenderal Ahmad Yani', u'Jalan Ahmad Yani'),\n",
    "  (u'Jalan Laksamana Yos Sudarso', u'Jalan Yos Sudarso'),\n",
    "  (u'Jalan Insinyur Haji Juanda', u'Jalan Ir. H. Juanda'),\n",
    "  (u'Jalan Letnan Jenderal S Parman', u'Letjend. Siswondo Parman'),\n",
    "  (u'Jalan Jenderal Gatot Subroto', u'Gatot Soebroto'),\n",
    "]\n",
    "\n",
    "# Update address street\n",
    "for reference, found in similiar_names:\n",
    "    res = db.jakarta.update_many({'address.street': found},\n",
    "                                 {'$set': {'address.street': reference}})\n",
    "    print \"Updated for {} :\".format(found), res.modified_count"
   ]
  },
  {
   "cell_type": "code",
   "execution_count": 14,
   "metadata": {
    "collapsed": false
   },
   "outputs": [
    {
     "name": "stdout",
     "output_type": "stream",
     "text": [
      "Updated for Gunung Sahari 4: 1\n",
      "Updated for Veteran 3: 1\n",
      "Updated for Mampang Prapatan 4: 1\n"
     ]
    }
   ],
   "source": [
    "# Fix address street that has no prefix\n",
    "no_prefix_address = [\n",
    "    (u'Jalan Gunung Sahari', u'Gunung Sahari 4'),\n",
    "    (u'Jalan Veteran', u'Veteran 3'),\n",
    "    (u'Jalan Mampang Prapatan', u'Mampang Prapatan 4')\n",
    "]\n",
    "\n",
    "for reference, found in no_prefix_address:\n",
    "    res = db.jakarta.update_many({'address.street': found},\n",
    "                                 {'$set': {'address.street': 'Jalan {}'.format(found)}}) \n",
    "    print \"Updated for {}:\".format(found), res.modified_count"
   ]
  },
  {
   "cell_type": "code",
   "execution_count": 15,
   "metadata": {
    "collapsed": false
   },
   "outputs": [
    {
     "data": {
      "text/plain": [
       "{u'n': 1, u'nModified': 1, u'ok': 1, 'updatedExisting': True}"
      ]
     },
     "execution_count": 15,
     "metadata": {},
     "output_type": "execute_result"
    }
   ],
   "source": [
    "# Fix address that contain house number\n",
    "with_housenumber = (u'Jalan Kyai Haji Mas Mansyur', u'KH Mas Mansyur no 57')\n",
    "\n",
    "db.jakarta.update({'address.street': with_housenumber[1] }, {'$set': {'address.street': with_housenumber[0], 'address.housenumber': 57}})"
   ]
  },
  {
   "cell_type": "markdown",
   "metadata": {},
   "source": [
    "### Incomplete city problem\n",
    "\n",
    "Now that we have normalize the street name, we can actually fill in the city for those addresses.\n",
    "However if we inspect the data closely, we see that the other area surrounding Jakarta is also included in the data set. For instance Tangerang, Bekasi and Bogor are included. Since it is common in Indonesia to use the same street name for multiple city we need to be conservative here. I will only update the city if there is already a city field and it only says starts with Jakarta. This is really only useful where the city name is uncomplete."
   ]
  },
  {
   "cell_type": "code",
   "execution_count": 16,
   "metadata": {
    "collapsed": false
   },
   "outputs": [
    {
     "name": "stdout",
     "output_type": "stream",
     "text": [
      "Updated for Jalan Kyai Haji Wahid Hasyim : 8\n",
      "Updated for Jalan Jenderal Gatot Subroto : 1\n",
      "Updated for Jalan HR Rasuna Said : 1\n"
     ]
    }
   ],
   "source": [
    "reverse_dict = {}\n",
    "for k, v in street_names.items():\n",
    "    for item in v:\n",
    "        reverse_dict[item] = k\n",
    "\n",
    "# Audit number of address that have a city \n",
    "\n",
    "# Add city whenever possible\n",
    "for address, city in reverse_dict.items():\n",
    "    res = db.jakarta.update_many({'address.street': address, 'address.city': re.compile('^jakarta', re.IGNORECASE)},\n",
    "                                 {'$set': {'address.city': city}})\n",
    "    if res.modified_count:\n",
    "        print \"Updated for {} :\".format(address), res.modified_count"
   ]
  },
  {
   "cell_type": "markdown",
   "metadata": {},
   "source": [
    "### Overuse of addr:full tag\n",
    "\n",
    "Unfortunately most of the the address is in the addr:full tag instead of addr:street (4515 vs 461). \n",
    "If we run:\n",
    "\n",
    "```python\n",
    "address_full = list(db.jakarta.find({'address.full':{'$exists': True}}, {'address.full': 1, '_id':0 }))\n",
    "```\n",
    "\n",
    "And inspect the output there are a lot of variations. \n",
    "\n",
    "- RT RW only no street name, example:\n",
    "\n",
    "    * RT 002 RW 08\n",
    "    * RT 0014 RW 010\n",
    "\n",
    "- Street name with RT no RW, example:\n",
    "    \n",
    "    * Jalan sumur batu raya, Rt 07/01\n",
    "    \n",
    "- Street name with house number, example:\n",
    "    \n",
    "    * Jalan Medan Merdeka Barat No. 12\n",
    "    * Jalan Kartini 8 dalam no 18\n"
   ]
  },
  {
   "cell_type": "markdown",
   "metadata": {},
   "source": [
    "---"
   ]
  },
  {
   "cell_type": "markdown",
   "metadata": {},
   "source": [
    "## Data Overview"
   ]
  },
  {
   "cell_type": "markdown",
   "metadata": {},
   "source": [
    "This section contains basic statistics about the dataset and the MongoDB queries used to gather them.\n",
    "                                                \n",
    "File sizes:\n",
    "                                                \n",
    "jakarta_indonesia.osm ......... 449.2 MB\n"
   ]
  },
  {
   "cell_type": "code",
   "execution_count": 17,
   "metadata": {
    "collapsed": false
   },
   "outputs": [],
   "source": [
    "from pymongo import MongoClient\n",
    "\n",
    "client = MongoClient()\n",
    "db = client['osm_data_import']"
   ]
  },
  {
   "cell_type": "code",
   "execution_count": 18,
   "metadata": {
    "collapsed": false
   },
   "outputs": [
    {
     "data": {
      "text/plain": [
       "2358348"
      ]
     },
     "execution_count": 18,
     "metadata": {},
     "output_type": "execute_result"
    }
   ],
   "source": [
    "# Number of document\n",
    "db.jakarta.find().count()"
   ]
  },
  {
   "cell_type": "code",
   "execution_count": 19,
   "metadata": {
    "collapsed": false
   },
   "outputs": [
    {
     "data": {
      "text/plain": [
       "1994318"
      ]
     },
     "execution_count": 19,
     "metadata": {},
     "output_type": "execute_result"
    }
   ],
   "source": [
    "# Number of nodes\n",
    "db.jakarta.find({'type': 'node'}).count()"
   ]
  },
  {
   "cell_type": "code",
   "execution_count": 20,
   "metadata": {
    "collapsed": false
   },
   "outputs": [
    {
     "data": {
      "text/plain": [
       "363954"
      ]
     },
     "execution_count": 20,
     "metadata": {},
     "output_type": "execute_result"
    }
   ],
   "source": [
    "# Number of way\n",
    "db.jakarta.find({'type': 'way'}).count()"
   ]
  },
  {
   "cell_type": "code",
   "execution_count": 21,
   "metadata": {
    "collapsed": false
   },
   "outputs": [
    {
     "data": {
      "text/plain": [
       "1365"
      ]
     },
     "execution_count": 21,
     "metadata": {},
     "output_type": "execute_result"
    }
   ],
   "source": [
    "# Number of unique user\n",
    "len(db.jakarta.distinct('created.user'))"
   ]
  },
  {
   "cell_type": "code",
   "execution_count": 22,
   "metadata": {
    "collapsed": false
   },
   "outputs": [
    {
     "data": {
      "text/plain": [
       "[{u'_id': u'Alex Rollin', u'count': 409359},\n",
       " {u'_id': u'PutriRachiemnys', u'count': 171520},\n",
       " {u'_id': u'zahrabanu', u'count': 124793},\n",
       " {u'_id': u'Dosandriani', u'count': 114818},\n",
       " {u'_id': u'miftajnh', u'count': 114544},\n",
       " {u'_id': u'dfo', u'count': 110296},\n",
       " {u'_id': u'naomiangelia', u'count': 104560},\n",
       " {u'_id': u'Firman Hadi', u'count': 96807},\n",
       " {u'_id': u'anisa berliana', u'count': 89299},\n",
       " {u'_id': u'ceyockey', u'count': 70948}]"
      ]
     },
     "execution_count": 22,
     "metadata": {},
     "output_type": "execute_result"
    }
   ],
   "source": [
    "# Top 10 contributing user\n",
    "list(db.jakarta.aggregate([{'$group': {'_id': '$created.user', 'count': {'$sum': 1}}}, {'$sort':{'count':-1}}, {'$limit':10}]))"
   ]
  },
  {
   "cell_type": "code",
   "execution_count": 23,
   "metadata": {
    "collapsed": false
   },
   "outputs": [
    {
     "data": {
      "text/plain": [
       "[{u'_id': u'muslim', u'count': 3438},\n",
       " {u'_id': u'christian', u'count': 374},\n",
       " {u'_id': u'buddhist', u'count': 68},\n",
       " {u'_id': None, u'count': 68},\n",
       " {u'_id': u'hindu', u'count': 15},\n",
       " {u'_id': u'confucian', u'count': 4}]"
      ]
     },
     "execution_count": 23,
     "metadata": {},
     "output_type": "execute_result"
    }
   ],
   "source": [
    "# Place of worship breakdown\n",
    "list(db.jakarta.aggregate([\n",
    "        {\"$match\":{\"amenity\":{\"$exists\":1}, \"amenity\":\"place_of_worship\"}},\n",
    "        {\"$group\":{\"_id\":\"$religion\", \"count\":{\"$sum\":1}}},\n",
    "        {\"$sort\":{\"count\":-1}}\n",
    "    ]))"
   ]
  },
  {
   "cell_type": "markdown",
   "metadata": {},
   "source": [
    "---"
   ]
  },
  {
   "cell_type": "markdown",
   "metadata": {},
   "source": [
    "## Additional ideas\n",
    "\n",
    "Jakarta experience flooding issue every year. There is this cycle the citizen believe, small flood every year and a big one every 5 years.\n",
    "\n",
    "Looking at the tag list, I saw this:\n",
    "\n",
    "    ('flood:overflow', 2619),\n",
    "    ('flood:rain', 4859),\n",
    "    ('flood:rob', 1049),\n",
    "    ('flood:send', 3362),\n",
    "    ('flood_cause:overflowing_river', 2),\n",
    "    ('flood_depth', 5860),\n",
    "    ('flood_duration', 5696),\n",
    "    ('flood_latest', 5845),\n",
    "    ('flood_prone', 21051),\n",
    "    ('floodprone', 19)\n",
    "\n",
    "Which is great, so we have flooding information.\n",
    "But, I imagine it will be difficult to manually add this information.\n",
    "\n",
    "Fortunately, Indonesian loves Twitter, and they tweet about the event everytime this happens.\n",
    "Some of the user turn on their geolocation. So we can probably use that to populate more flooding information into our data. Use Twitter API to fetch user flood information get the geolocation, (if needed use Google API to do geo reverse and add entry to OSM data) and update the data."
   ]
  },
  {
   "cell_type": "markdown",
   "metadata": {},
   "source": [
    "---"
   ]
  },
  {
   "cell_type": "markdown",
   "metadata": {},
   "source": [
    "## Conclusion and Notes\n",
    "\n",
    "The data we obtain from OSM is far from perfect. For the purpose of this exercise, however, I have clean up the address.\n",
    "\n",
    "I wish I could clean the full address ('address.full' key) a bit, but there is no format, which makes it really painful to parse. \n",
    "\n",
    "Capitalization is also a problem in the data set. But I can not find the list of address to be the reference. We can simply perform capitilization on the address but I don't think this is accurate. For instance one of the address is 'kh mas mansyur' which we can not immediately capitalize to 'Kh Mas Mansyur' as the correct capitalization is 'KH Mas Mansyur'.\n",
    "\n",
    "The data set also includes surrounding city like Tangerang, Bekasi, Bogor, etc. So a better name for the dataset will be [Greater Jakarta](https://en.wikipedia.org/wiki/Greater_Jakarta). "
   ]
  }
 ],
 "metadata": {
  "kernelspec": {
   "display_name": "Python 2",
   "language": "python",
   "name": "python2"
  },
  "language_info": {
   "codemirror_mode": {
    "name": "ipython",
    "version": 2
   },
   "file_extension": ".py",
   "mimetype": "text/x-python",
   "name": "python",
   "nbconvert_exporter": "python",
   "pygments_lexer": "ipython2",
   "version": "2.7.9"
  }
 },
 "nbformat": 4,
 "nbformat_minor": 0
}
