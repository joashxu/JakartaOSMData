{
 "cells": [
  {
   "cell_type": "markdown",
   "metadata": {},
   "source": [
    "# Wrangling OpenStreetMap Data\n",
    "\n",
    "### Map area: Jakarta, Indonesia\n",
    "\n",
    "** Data source: https://s3.amazonaws.com/metro-extracts.mapzen.com/jakarta_indonesia.osm.bz2**"
   ]
  },
  {
   "cell_type": "markdown",
   "metadata": {},
   "source": [
    "---"
   ]
  },
  {
   "cell_type": "markdown",
   "metadata": {},
   "source": [
    "## Overview\n",
    "\n",
    "After downloading the map data of Jakarta, I do some initial checking on the document manually.\n",
    "I then run some code to get the feel of the data."
   ]
  },
  {
   "cell_type": "code",
   "execution_count": 1,
   "metadata": {
    "collapsed": false
   },
   "outputs": [],
   "source": [
    "from osm_dataauditor import OSMDataAuditor\n",
    "\n",
    "osm_data = OSMDataAuditor('jakarta_indonesia.osm')"
   ]
  },
  {
   "cell_type": "code",
   "execution_count": 2,
   "metadata": {
    "collapsed": false
   },
   "outputs": [
    {
     "data": {
      "text/plain": [
       "{'bounds': 1,\n",
       " 'member': 2083,\n",
       " 'nd': 2522657,\n",
       " 'node': 1994318,\n",
       " 'osm': 1,\n",
       " 'relation': 420,\n",
       " 'tag': 700156,\n",
       " 'way': 364030}"
      ]
     },
     "execution_count": 2,
     "metadata": {},
     "output_type": "execute_result"
    }
   ],
   "source": [
    "# Basic element check\n",
    "osm_data.count_element()"
   ]
  },
  {
   "cell_type": "markdown",
   "metadata": {},
   "source": [
    "OSM allows a very flexible tagging system, which gives user freedom but causing problem with consistency.\n",
    "I count the number for all tag in the document."
   ]
  },
  {
   "cell_type": "code",
   "execution_count": 3,
   "metadata": {
    "collapsed": false
   },
   "outputs": [],
   "source": [
    "# Check the tag key and element\n",
    "tag_keys = osm_data.get_tag_keys()"
   ]
  },
  {
   "cell_type": "markdown",
   "metadata": {},
   "source": [
    "Below I list the top 20 tag keys sorted descending, as the whole list will be too exhaustive to read."
   ]
  },
  {
   "cell_type": "code",
   "execution_count": 4,
   "metadata": {
    "collapsed": false
   },
   "outputs": [
    {
     "data": {
      "text/plain": [
       "[('building', 557134),\n",
       " ('highway', 124402),\n",
       " ('created_by', 84423),\n",
       " ('name', 79005),\n",
       " ('source', 29848),\n",
       " ('building:levels', 25345),\n",
       " ('building:roof', 25059),\n",
       " ('building:walls', 25051),\n",
       " ('amenity', 24781),\n",
       " ('building:structure', 24658),\n",
       " ('flood_prone', 21051),\n",
       " ('natural', 19025),\n",
       " ('admin_level', 17723),\n",
       " ('boundary', 15606),\n",
       " ('building:use', 15113),\n",
       " ('oneway', 12414),\n",
       " ('landuse', 12296),\n",
       " ('addr:full', 10038),\n",
       " ('kab_name', 10015),\n",
       " ('kec_name', 10004)]"
      ]
     },
     "execution_count": 4,
     "metadata": {},
     "output_type": "execute_result"
    }
   ],
   "source": [
    "sorted(tag_keys, key=lambda x: x[1], reverse=True)[:20]"
   ]
  },
  {
   "cell_type": "markdown",
   "metadata": {},
   "source": [
    "Looking through the data I see several things:\n",
    "\n",
    "* There are only a handful usage of postal code, total of 900. This is not suprising, since in Indonesia we don't use this postal code that much.\n",
    "* There are only a handful entry for telephone, total of 212.\n",
    "* There are quite numerous flood_prone tag, 21000+.\n",
    "* Many of the tags are actually duplicate.\n",
    "* Etc.\n",
    "\n",
    "On the topic of duplicate tags, below I show several tag that has similar names."
   ]
  },
  {
   "cell_type": "code",
   "execution_count": 5,
   "metadata": {
    "collapsed": false
   },
   "outputs": [
    {
     "data": {
      "text/plain": [
       "[('NAMA', 2), ('Nama', 92), ('Name', 2), ('nama', 28), ('name', 79005)]"
      ]
     },
     "execution_count": 5,
     "metadata": {},
     "output_type": "execute_result"
    }
   ],
   "source": [
    "import re\n",
    "\n",
    "# Name vs Nama (Nama is Indonesian for Name)\n",
    "[item for item in tag_keys if re.match('(name|nama)$', item[0], re.I)]"
   ]
  },
  {
   "cell_type": "code",
   "execution_count": 6,
   "metadata": {
    "collapsed": false
   },
   "outputs": [
    {
     "data": {
      "text/plain": [
       "[('Propinsi', 2), ('Province', 2)]"
      ]
     },
     "execution_count": 6,
     "metadata": {},
     "output_type": "execute_result"
    }
   ],
   "source": [
    "# Province vs propinsi (Propinsi is Indonesian for Province)\n",
    "[item for item in tag_keys if re.match('(province|propinsi)$', item[0], re.I)]"
   ]
  },
  {
   "cell_type": "code",
   "execution_count": 7,
   "metadata": {
    "collapsed": false
   },
   "outputs": [
    {
     "data": {
      "text/plain": [
       "[('addr:full', 10038),\n",
       " ('addr:housenumber', 1475),\n",
       " ('addr:street', 1441),\n",
       " ('addr:city', 1057),\n",
       " ('addr:postcode', 858),\n",
       " ('addr:housename', 492),\n",
       " ('addr:country', 52),\n",
       " ('addr:province', 30),\n",
       " ('addr:district', 26),\n",
       " ('addr:suburb', 22),\n",
       " ('addr:subdistrict', 20),\n",
       " ('addr:interpolation', 16),\n",
       " ('addr:floor', 4),\n",
       " ('addr:state', 4),\n",
       " ('ALAMAT', 2),\n",
       " ('addr:county', 2),\n",
       " ('addr:housenumber_1', 2),\n",
       " ('addr:place', 2),\n",
       " ('alamat', 2)]"
      ]
     },
     "execution_count": 7,
     "metadata": {},
     "output_type": "execute_result"
    }
   ],
   "source": [
    "# Alamat vs address, (Alamat is Indonesian for address)\n",
    "sorted([item for item in tag_keys if re.match('(addr|alamat)', item[0], re.I)], key=lambda x: x[1], reverse=True)"
   ]
  },
  {
   "cell_type": "markdown",
   "metadata": {},
   "source": [
    "We see for address there are three related tags: 'ALAMAT, 'addr:street', 'addr:full'.\n",
    "Both 'addr:street' and 'addr:full' is valid tag, so we can not merge them.\n",
    "[OSM wiki](http://wiki.openstreetmap.org/wiki/Key:addr>) imply that the using 'addr:street' and other supporting field is better then using 'addr:full' but our data shows that we have more 'addr:full' then 'addr:street' (10038 vs 1441).\n",
    "\n",
    "Indonesia has a bit complex administrative subdivision. It is divided as follow:\n",
    "\n",
    "* Province\n",
    "* Regency (Kabupaten) or City (Kota)\n",
    "* District (Kecamatan)\n",
    "* Village\n",
    "\n",
    "For Jakarta (a province), it is divided into 4 cities: Jakarta Selatan, Jakarta Utara, Jakarta Barat and Jakarta Timur.\n",
    "\n",
    "And then there are non-administrative division like RT and RW. While RT and RW is considered a non-administrative subdivision, it is widely use (The ID card has and requires this information).\n",
    "\n",
    "I believe this is what lead user to just simply put the whole address in 'addr:full', as this is much simpler. \n",
    "Separating it into different bits is often difficult and it does not actually matched OSM address tag (it does not have things like 'Kabupaten' or 'Kecamatan'). But as OSM warns, putting everything in 'addr:full' makes it harder to parse by software.\n",
    "\n",
    "There are some effort by the community to try to add the division into the data, but the result is not consistent. For instance for Regency we have 'KAB_NAME', 'kab_name', 'Kabupaten', 'kab.', etc. And some way node uses 'admin_level' tag and then put 'kabupaten' in the value."
   ]
  },
  {
   "cell_type": "markdown",
   "metadata": {},
   "source": [
    "---"
   ]
  },
  {
   "cell_type": "markdown",
   "metadata": {},
   "source": [
    "## Problems encountered in Map"
   ]
  },
  {
   "cell_type": "markdown",
   "metadata": {},
   "source": [
    "### Address prefixes problem\n",
    "\n",
    "The problems with the address prefixes:\n",
    "\n",
    "* Abbreviated street names (Jl. Masjid Almunawarah, Jln Perintis, etc)\n",
    "* Abbreviated alley names (Gg. Kembang)\n",
    "\n",
    "For the street name there are several variation, that is: 'jl.', 'jln.', 'jl', jln'.\n",
    "And then some use all upper case, some all lower case and some are mixed."
   ]
  },
  {
   "cell_type": "code",
   "execution_count": 8,
   "metadata": {
    "collapsed": false
   },
   "outputs": [
    {
     "name": "stdout",
     "output_type": "stream",
     "text": [
      "Total abbreviated street names: 2041\n"
     ]
    },
    {
     "data": {
      "text/plain": [
       "['Jl. Patra Kuningan',\n",
       " 'Jl. HR. Rasuna Said Blok X-5 Kav. 5-9',\n",
       " 'Jl Alteri Permata Hijau',\n",
       " 'Jl. Bojana Tirta',\n",
       " 'jl taman ratu indah',\n",
       " 'Jl Danau Sunter',\n",
       " 'Jl Raya Bogor',\n",
       " 'Jl. Raya Bogor Rt 008/02',\n",
       " 'Jl. Raya Bogor Km 20',\n",
       " 'Jl. Raya Bogor']"
      ]
     },
     "execution_count": 8,
     "metadata": {},
     "output_type": "execute_result"
    }
   ],
   "source": [
    "abbreviated_st = osm_data.audit_abbreviated_street_prefixes()\n",
    "print \"Total abbreviated street names:\", len(abbreviated_st)\n",
    "\n",
    "# Print the first 10 rows\n",
    "abbreviated_st[:10]"
   ]
  },
  {
   "cell_type": "code",
   "execution_count": 9,
   "metadata": {
    "collapsed": false
   },
   "outputs": [
    {
     "name": "stdout",
     "output_type": "stream",
     "text": [
      "Total abbreviated alley names: 18\n"
     ]
    },
    {
     "data": {
      "text/plain": [
       "['Gg. 3 Blok R',\n",
       " 'Gg. Kembang Sepatu (dari arah Jl. Rawa Selatan)',\n",
       " 'Gg Kwista Rt 03 Rw 05',\n",
       " 'Gg 6 Rt 06 Rw 04',\n",
       " 'Gg Kwista Rt 01 Rw 05',\n",
       " 'Gg Rawa Tengah Rt 02 rw 07',\n",
       " 'Gg. Panca Marga',\n",
       " 'Gg. Sepakat',\n",
       " 'Gg. Lontar RT 008 RW 006',\n",
       " 'Gg. Trikora RT 005 RW 005']"
      ]
     },
     "execution_count": 9,
     "metadata": {},
     "output_type": "execute_result"
    }
   ],
   "source": [
    "abbreviated_alley = osm_data.audit_abbreviated_alley_prefixes()\n",
    "print \"Total abbreviated alley names:\", len(abbreviated_alley)\n",
    "\n",
    "# Print the first 10 rows\n",
    "abbreviated_alley[:10]"
   ]
  },
  {
   "cell_type": "markdown",
   "metadata": {},
   "source": [
    "### Address spelling problem\n",
    "\n",
    "Several street names is actually the same, but spell out differently.\n",
    "Wikipedia has the name of most of important street in Jakarta. So I will use that as a reference."
   ]
  },
  {
   "cell_type": "markdown",
   "metadata": {},
   "source": [
    "To check the similarity between the reference address name with the one we have in our MongoDB, I utilize Python built-in [difflib](https://docs.python.org/2/library/difflib.html) library. SequenceMatcher class can compare and give out ratio of similarity. We are intrested at strings that generate ratio above 0.65 and less then 1. We also ignore the prefix and the suffix like 'raya' which is common suffix for street names in Indonesia."
   ]
  },
  {
   "cell_type": "code",
   "execution_count": 10,
   "metadata": {
    "collapsed": false
   },
   "outputs": [
    {
     "name": "stdout",
     "output_type": "stream",
     "text": [
      "Total similiar item found:  295\n"
     ]
    },
    {
     "data": {
      "text/plain": [
       "[(u'jalan jenderal sudirman', 'jalan jendral sudirman', 0.9777777777777777),\n",
       " (u'jalan kramat raya', 'jalan kamal raya', 0.9090909090909091),\n",
       " (u'jalan jenderal gatot subroto',\n",
       "  'jalan jend. gatot subroto',\n",
       "  0.9056603773584906),\n",
       " (u'jalan hr rasuna said', 'jl hr. rasuna said', 0.8947368421052632),\n",
       " (u'jalan hr rasuna said', 'jl. hr rasuna said', 0.8947368421052632),\n",
       " (u'jalan jenderal ahmad yani', 'jl. jendral ahmad yani', 0.8936170212765957),\n",
       " (u'jalan senen raya', 'jalan menteng raya', 0.8823529411764706),\n",
       " (u'jalan pasar minggu', 'jalan raya pasar minggu', 0.8780487804878049),\n",
       " (u'jalan raya bogor', 'jl. raya bogor', 0.8666666666666667),\n",
       " (u'jalan jembatan dua', 'jalan jembatan batu', 0.8648648648648649)]"
      ]
     },
     "execution_count": 10,
     "metadata": {},
     "output_type": "execute_result"
    }
   ],
   "source": [
    "closely_matched = osm_data.audit_address_similar_names()\n",
    "closely_matched = sorted(list(closely_matched), key=lambda x: x[2], reverse=True)\n",
    "\n",
    "print \"Total similiar item found: \", len(closely_matched)\n",
    "\n",
    "# Display top 10 with score\n",
    "[(reference, found, score) for reference, found, score in closely_matched[:10]]"
   ]
  },
  {
   "cell_type": "markdown",
   "metadata": {},
   "source": [
    "We still need to manually check and replace the street name, but it is a much simpler task."
   ]
  },
  {
   "cell_type": "markdown",
   "metadata": {},
   "source": [
    "### Incomplete and incorrect city problem\n",
    "\n",
    "Since I am using the reference from Wikipedia which contain group streets by cities. I can probably update the city information using this reference as well. First let's audit the city information."
   ]
  },
  {
   "cell_type": "code",
   "execution_count": 12,
   "metadata": {
    "collapsed": false
   },
   "outputs": [
    {
     "name": "stdout",
     "output_type": "stream",
     "text": [
      "Different city names:  44\n"
     ]
    }
   ],
   "source": [
    "city_names = osm_data.audit_city()\n",
    "\n",
    "print \"Different city names: \", len(city_names)"
   ]
  },
  {
   "cell_type": "markdown",
   "metadata": {},
   "source": [
    "There are 44 unique different names for city, after looking at the result, many of them are invalid.\n",
    "Some only have Jakarta as the listed city, what is surprising though is that there are cities from the surroundings area as well. For instance Tangerang, Bekasi and Bogor are included.\n",
    "\n",
    "Since it is common in Indonesia to use the same street name for multiple city we need to be conservative here. I will only update the city if there is already a city field and it only says 'Jakarta'."
   ]
  },
  {
   "cell_type": "markdown",
   "metadata": {},
   "source": [
    "### Overuse of addr:full tag\n",
    "\n",
    "Unfortunately most of the the address is in the addr:full tag instead of addr:street (4515 vs 461). \n",
    "Looking through the content of the addr:full, we can see several variation.\n",
    "\n",
    "- RT RW only no street name, example:\n",
    "\n",
    "    * RT 002 RW 08\n",
    "    * RT 0014 RW 010\n",
    "\n",
    "- Street name with RT no RW, example:\n",
    "    \n",
    "    * Jalan sumur batu raya, Rt 07/01\n",
    "    \n",
    "- Street name with house number, example:\n",
    "    \n",
    "    * Jalan Medan Merdeka Barat No. 12\n",
    "    * Jalan Kartini 8 dalam no 18\n",
    "\n",
    "- etc.\n",
    "\n",
    "I won't be cleaning addr:full further (other then the prefixes fix) on this project but I think I need to address this here."
   ]
  },
  {
   "cell_type": "markdown",
   "metadata": {},
   "source": [
    "---"
   ]
  },
  {
   "cell_type": "markdown",
   "metadata": {},
   "source": [
    "## Data Overview"
   ]
  },
  {
   "cell_type": "markdown",
   "metadata": {},
   "source": [
    "This section contains basic statistics about the dataset and the MongoDB queries used to gather them.\n",
    "                                                \n",
    "File sizes:\n",
    "                                                \n",
    "jakarta_indonesia.osm ......... 449.2 MB\n",
    "jakarta_indonesia.osm.json .... 524.3 MB\n"
   ]
  },
  {
   "cell_type": "code",
   "execution_count": 13,
   "metadata": {
    "collapsed": false
   },
   "outputs": [],
   "source": [
    "from pymongo import MongoClient\n",
    "\n",
    "client = MongoClient()\n",
    "db = client['osm_data_import']"
   ]
  },
  {
   "cell_type": "code",
   "execution_count": 14,
   "metadata": {
    "collapsed": false
   },
   "outputs": [
    {
     "data": {
      "text/plain": [
       "2358348"
      ]
     },
     "execution_count": 14,
     "metadata": {},
     "output_type": "execute_result"
    }
   ],
   "source": [
    "# Number of document\n",
    "db.jakarta.find().count()"
   ]
  },
  {
   "cell_type": "code",
   "execution_count": 15,
   "metadata": {
    "collapsed": false
   },
   "outputs": [
    {
     "data": {
      "text/plain": [
       "1994318"
      ]
     },
     "execution_count": 15,
     "metadata": {},
     "output_type": "execute_result"
    }
   ],
   "source": [
    "# Number of nodes\n",
    "db.jakarta.find({'type': 'node'}).count()"
   ]
  },
  {
   "cell_type": "code",
   "execution_count": 16,
   "metadata": {
    "collapsed": false
   },
   "outputs": [
    {
     "data": {
      "text/plain": [
       "363954"
      ]
     },
     "execution_count": 16,
     "metadata": {},
     "output_type": "execute_result"
    }
   ],
   "source": [
    "# Number of way\n",
    "db.jakarta.find({'type': 'way'}).count()"
   ]
  },
  {
   "cell_type": "code",
   "execution_count": 17,
   "metadata": {
    "collapsed": false
   },
   "outputs": [
    {
     "data": {
      "text/plain": [
       "1365"
      ]
     },
     "execution_count": 17,
     "metadata": {},
     "output_type": "execute_result"
    }
   ],
   "source": [
    "# Number of unique user\n",
    "len(db.jakarta.distinct('created.user'))"
   ]
  },
  {
   "cell_type": "code",
   "execution_count": 18,
   "metadata": {
    "collapsed": false
   },
   "outputs": [
    {
     "data": {
      "text/plain": [
       "[{u'_id': u'Alex Rollin', u'count': 409359},\n",
       " {u'_id': u'PutriRachiemnys', u'count': 171520},\n",
       " {u'_id': u'zahrabanu', u'count': 124793},\n",
       " {u'_id': u'Dosandriani', u'count': 114818},\n",
       " {u'_id': u'miftajnh', u'count': 114544},\n",
       " {u'_id': u'dfo', u'count': 110296},\n",
       " {u'_id': u'naomiangelia', u'count': 104560},\n",
       " {u'_id': u'Firman Hadi', u'count': 96807},\n",
       " {u'_id': u'anisa berliana', u'count': 89299},\n",
       " {u'_id': u'ceyockey', u'count': 70948}]"
      ]
     },
     "execution_count": 18,
     "metadata": {},
     "output_type": "execute_result"
    }
   ],
   "source": [
    "# Top 10 contributing user\n",
    "list(db.jakarta.aggregate([{'$group': {'_id': '$created.user', 'count': {'$sum': 1}}}, {'$sort':{'count':-1}}, {'$limit':10}]))"
   ]
  },
  {
   "cell_type": "code",
   "execution_count": 19,
   "metadata": {
    "collapsed": false
   },
   "outputs": [
    {
     "data": {
      "text/plain": [
       "[{u'_id': u'muslim', u'count': 3438},\n",
       " {u'_id': u'christian', u'count': 374},\n",
       " {u'_id': u'buddhist', u'count': 68},\n",
       " {u'_id': None, u'count': 68},\n",
       " {u'_id': u'hindu', u'count': 15},\n",
       " {u'_id': u'confucian', u'count': 4}]"
      ]
     },
     "execution_count": 19,
     "metadata": {},
     "output_type": "execute_result"
    }
   ],
   "source": [
    "# Place of worship breakdown\n",
    "list(db.jakarta.aggregate([\n",
    "        {\"$match\":{\"amenity\":{\"$exists\":1}, \"amenity\":\"place_of_worship\"}},\n",
    "        {\"$group\":{\"_id\":\"$religion\", \"count\":{\"$sum\":1}}},\n",
    "        {\"$sort\":{\"count\":-1}}\n",
    "    ]))"
   ]
  },
  {
   "cell_type": "markdown",
   "metadata": {},
   "source": [
    "---"
   ]
  },
  {
   "cell_type": "markdown",
   "metadata": {},
   "source": [
    "## Additional ideas\n",
    "\n",
    "Jakarta experience flooding issue every year. There is this cycle the citizen believe take place, small flood every year and a big one every 5 years.\n",
    "\n",
    "Looking at the tag list, I saw this:\n",
    "\n",
    "    ('flood:overflow', 2619),\n",
    "    ('flood:rain', 4859),\n",
    "    ('flood:rob', 1049),\n",
    "    ('flood:send', 3362),\n",
    "    ('flood_cause:overflowing_river', 2),\n",
    "    ('flood_depth', 5860),\n",
    "    ('flood_duration', 5696),\n",
    "    ('flood_latest', 5845),\n",
    "    ('flood_prone', 21051),\n",
    "    ('floodprone', 19)\n",
    "\n",
    "Which is great, so we have flooding information.\n",
    "But, I imagine it will be difficult to manually add this information.\n",
    "\n",
    "Fortunately, Indonesian loves Twitter, and they tweet about the event everytime this happens.\n",
    "Some of the user turn on their geolocation. So we can probably use that to populate more flooding information into our data. Use Twitter API to fetch user flood information, get the geolocation, if needed use Google API to do geo reverse and add entry to OSM data and update the data."
   ]
  },
  {
   "cell_type": "markdown",
   "metadata": {},
   "source": [
    "---"
   ]
  },
  {
   "cell_type": "markdown",
   "metadata": {},
   "source": [
    "## Conclusion and Notes\n",
    "\n",
    "The data I obtain from OSM is far from perfect. For the purpose of this exercise, however, I have clean up the address.\n",
    "\n",
    "I wish I could clean the full address ('address.full' key) a bit, but it is in free format, which makes it really painful to parse. \n",
    "\n",
    "Capitalization is also a problem in the data set. But I can not find the list of address to be the reference. We can simply perform capitilization on the address but I don't think this is accurate. For instance one of the address is 'kh mas mansyur' which we can not immediately capitalize to 'Kh Mas Mansyur' as the correct capitalization is 'KH Mas Mansyur'.\n",
    "\n",
    "The data set also includes surrounding city like Tangerang, Bekasi, Bogor, etc. So a better name for the dataset will be [Greater Jakarta](https://en.wikipedia.org/wiki/Greater_Jakarta). "
   ]
  }
 ],
 "metadata": {
  "kernelspec": {
   "display_name": "Python 2",
   "language": "python",
   "name": "python2"
  },
  "language_info": {
   "codemirror_mode": {
    "name": "ipython",
    "version": 2
   },
   "file_extension": ".py",
   "mimetype": "text/x-python",
   "name": "python",
   "nbconvert_exporter": "python",
   "pygments_lexer": "ipython2",
   "version": "2.7.9"
  }
 },
 "nbformat": 4,
 "nbformat_minor": 0
}
